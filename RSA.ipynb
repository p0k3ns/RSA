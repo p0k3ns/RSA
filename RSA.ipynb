{
 "cells": [
  {
   "cell_type": "markdown",
   "metadata": {},
   "source": [
    "# RSA"
   ]
  },
  {
   "cell_type": "code",
   "execution_count": null,
   "metadata": {},
   "outputs": [],
   "source": [
    "import math\n",
    "import random\n",
    "\n",
    "def nwd(a, b):\n",
    "    while b: a, b = b, a % b\n",
    "    return a\n",
    "nwd(6,35)\n",
    "\n",
    "def odwr_mod(a, n):\n",
    "    p0, p1, a0, n0 = 0, 1, a, n\n",
    "    q, r = n0 // a0, n0 % a0\n",
    "    while r:\n",
    "        t = p0 - q * p1\n",
    "        if t >= 0:\n",
    "            t = t % n\n",
    "        else:\n",
    "            t = n - ((-t) % n)\n",
    "        p0, p1, n0, a0 = p1, t, a0, r\n",
    "        q, r  = n0 // a0, n0 % a0\n",
    "    return p1\n",
    "\n",
    "tp = []\n",
    "for num in range(1001,1100,2):\n",
    "    if all(num%i!=0 for i in range(3,int(math.sqrt(num))+1, 2)):\n",
    "       tp.append(num)\n",
    "\n",
    "p, q = tp[random.randint(0,len(tp))], tp[random.randint(0,len(tp))]\n",
    "\n",
    "e=7\n",
    "nwd(e,(p-1)*(q-1))\n",
    "while nwd(e,(p-1)*(q-1)) != 1: e+=2\n",
    "    \n",
    "tekst_jawny = input(\"Enter the plaintext: \")\n",
    "a = [ord(x) for x in tekst_jawny]\n",
    "\n",
    "n = p*q\n",
    "k = odwr_mod(e,(p-1)*(q-1))\n",
    "\n",
    "c = [(x**e)%n for x in a]\n",
    "#print(c)\n",
    "\n",
    "szyfr = [chr(x) for x in c]\n",
    "#print(szyfr)\n",
    "\n",
    "for i in range(1,len(szyfr)):\n",
    "    szyfr[0] = szyfr[0]+szyfr[i]\n",
    "print(\"Cryptogram: \" + szyfr[0])\n",
    "\n",
    "d = [(x**k)%n for x in c]\n",
    "#print(d)\n",
    "\n",
    "deszyfr = [chr(x) for x in d]\n",
    "#print(deszyfr)\n",
    "\n",
    "for i in range(1,len(deszyfr)):\n",
    "    deszyfr[0] = deszyfr[0]+deszyfr[i]\n",
    "\n",
    "print(\"Deciphered plain text: \" + deszyfr[0])"
   ]
  }
 ],
 "metadata": {
  "kernelspec": {
   "display_name": "Python 3 (ipykernel)",
   "language": "python",
   "name": "python3"
  },
  "language_info": {
   "codemirror_mode": {
    "name": "ipython",
    "version": 3
   },
   "file_extension": ".py",
   "mimetype": "text/x-python",
   "name": "python",
   "nbconvert_exporter": "python",
   "pygments_lexer": "ipython3",
   "version": "3.9.12"
  }
 },
 "nbformat": 4,
 "nbformat_minor": 2
}
